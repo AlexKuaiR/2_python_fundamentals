{
 "cells": [
  {
   "cell_type": "code",
   "execution_count": 26,
   "id": "65960879",
   "metadata": {},
   "outputs": [],
   "source": [
    "import math\n",
    "import matplotlib\n",
    "import numpy as np\n",
    "from numpy.linalg import norm"
   ]
  },
  {
   "cell_type": "markdown",
   "id": "82660c15",
   "metadata": {},
   "source": [
    "Two tribes are on two groups of islands. The location of each island in each group are the following \n"
   ]
  },
  {
   "cell_type": "code",
   "execution_count": 2,
   "id": "0484d306",
   "metadata": {},
   "outputs": [],
   "source": [
    "tribe_1 = np.array([[ 0.7       , -2.        ],\n",
    "       [ 0.57031819, -1.38989504],\n",
    "       [ 0.20369591, -0.88528276],\n",
    "       [-0.33647451, -0.57341523],\n",
    "       [-0.95679269, -0.50821716],\n",
    "       [-1.55      , -0.70096189],\n",
    "       [-2.01352549, -1.11832212]])\n",
    "\n",
    "\n",
    "tribe_2 = np.array([[ 2.87764129,  2.22745751],\n",
    "       [ 2.38267867,  1.35515319],\n",
    "       [ 1.58470935,  0.74757783],\n",
    "       [ 0.61216208,  0.50251733],\n",
    "       [-0.37843706,  0.65941282],\n",
    "       [-1.22765662,  1.19301284],\n",
    "       [-1.79881943,  2.01743742],\n",
    "       [-2.        ,  3.        ]])"
   ]
  },
  {
   "cell_type": "markdown",
   "id": "3f0bd63d",
   "metadata": {},
   "source": [
    "1. Plot the two tribes\n",
    "\n",
    "hints:\n",
    "\n",
    "(1) use the scatter function to make the plot <br>\n",
    "(2) use x[:,0] to access first column of x, and x[:,1] to access second column of x <br>"
   ]
  },
  {
   "cell_type": "code",
   "execution_count": 24,
   "id": "44bbd523",
   "metadata": {},
   "outputs": [
    {
     "name": "stderr",
     "output_type": "stream",
     "text": [
      "No artists with labels found to put in legend.  Note that artists whose label start with an underscore are ignored when legend() is called with no argument.\n"
     ]
    },
    {
     "data": {
      "text/plain": [
       "<matplotlib.legend.Legend at 0x168803a60>"
      ]
     },
     "execution_count": 24,
     "metadata": {},
     "output_type": "execute_result"
    },
    {
     "data": {
      "image/png": "[encoded data removed]",
      "text/plain": [
       "<Figure size 640x480 with 1 Axes>"
      ]
     },
     "metadata": {},
     "output_type": "display_data"
    }
   ],
   "source": [
    "tribe_x = []\n",
    "tribe_y = []\n",
    "colors = []\n",
    "\n",
    "for e in tribe_1:\n",
    "    tribe_x.append(e[0])\n",
    "    tribe_y.append(e[1])\n",
    "    colors.append(\"#0000FF\")\n",
    "    # tribe_1 is blue\n",
    "\n",
    "for e in tribe_2:\n",
    "    tribe_x.append(e[0])\n",
    "    tribe_y.append(e[1])\n",
    "    colors.append(\"#FF0000\")\n",
    "    # tribe_2 is red\n",
    "len(colors)\n",
    "\n",
    "\n",
    "matplotlib.pyplot.scatter(tribe_x, tribe_y, c = colors)\n",
    "#matplotlib.pyplot.legend()"
   ]
  },
  {
   "cell_type": "markdown",
   "id": "28f9b69f",
   "metadata": {},
   "source": [
    "2. Write a function that compute the distance between two islands\n",
    "\n",
    "hints:\n",
    "\n",
    "(1) suppose island a is located at (1,2) and island b is located at (4,6), the distance between a and b is $$ \\sqrt{(4-1)^2 + (6-2)^2} = \\sqrt{3^2 + 4^2} = \\sqrt {9+16} =  \\sqrt {25} = 5$$  \n",
    "(2) alternatively, we can also use built-in python functions to find distance between a and b. Look up ***np.linalg.norm(a-b)***"
   ]
  },
  {
   "cell_type": "code",
   "execution_count": 19,
   "id": "33b4091e",
   "metadata": {},
   "outputs": [],
   "source": [
    "from numpy import sqrt\n",
    "def distance(a, b):\n",
    "    return sqrt((a[0] - b[0]) * (a[0] - b[0]) + (a[1] - b[1]) * (a[1] - b[1]))"
   ]
  },
  {
   "cell_type": "markdown",
   "id": "8ea0b456",
   "metadata": {},
   "source": [
    "3. Find the smallest distance from tribe 1 and tribe and print the distance. \n",
    "\n",
    "hints:\n",
    "\n",
    "(1) use nested for loops to iterate all possible combinations of island from tribe 1 and island from tribe 2\n",
    "(2) call the distance function you wrote above to measure distances between islands \n",
    "(3) store all the distances into a list, and find the smallest value in the list "
   ]
  },
  {
   "cell_type": "code",
   "execution_count": 21,
   "id": "a52fb956",
   "metadata": {},
   "outputs": [
    {
     "name": "stdout",
     "output_type": "stream",
     "text": [
      "1.233541996232518\n"
     ]
    }
   ],
   "source": [
    "smallest = distance(tribe_1[0], tribe_2[0])\n",
    "for i in tribe_1:\n",
    "    for j in tribe_2:\n",
    "        if (distance(i, j) < smallest): smallest = distance(i, j)\n",
    "\n",
    "print(smallest)"
   ]
  },
  {
   "cell_type": "markdown",
   "id": "3564a710",
   "metadata": {},
   "source": [
    "4. (Optional) Find which two islands have the smallest distance and circle them up on the plot \n",
    "\n"
   ]
  },
  {
   "cell_type": "code",
   "execution_count": 31,
   "id": "c7bc7c12",
   "metadata": {},
   "outputs": [
    {
     "data": {
      "text/plain": [
       "<matplotlib.collections.PathCollection at 0x16a4c0820>"
      ]
     },
     "execution_count": 31,
     "metadata": {},
     "output_type": "execute_result"
    },
    {
     "data": {
      "image/png": "[encoded data removed]",
      "text/plain": [
       "<Figure size 640x480 with 1 Axes>"
      ]
     },
     "metadata": {},
     "output_type": "display_data"
    }
   ],
   "source": [
    "smallest = distance(tribe_1[0], tribe_2[0])\n",
    "smallest_1 = 0\n",
    "smallest_2 = 0\n",
    "\n",
    "for i in range(len(tribe_1)):\n",
    "    for j in range(len(tribe_2)):\n",
    "        if distance(tribe_1[i], tribe_2[j]) < smallest: \n",
    "            smallest = distance(tribe_1[i], tribe_2[j])\n",
    "            smallest_1 = i\n",
    "            smallest_2 = j\n",
    "\n",
    "matplotlib.pyplot.scatter(tribe_x, tribe_y, c = colors)\n",
    "matplotlib.pyplot.scatter(tribe_1[smallest_1][0], tribe_1[smallest_1][1], c = \"purple\", s = 100)\n",
    "matplotlib.pyplot.scatter(tribe_2[smallest_2][0], tribe_2[smallest_2][1], c = \"orange\", s = 100)"
   ]
  },
  {
   "cell_type": "code",
   "execution_count": null,
   "id": "e255b79c",
   "metadata": {},
   "outputs": [],
   "source": []
  },
  {
   "cell_type": "code",
   "execution_count": null,
   "id": "df825093",
   "metadata": {},
   "outputs": [],
   "source": []
  },
  {
   "cell_type": "code",
   "execution_count": null,
   "id": "378b4382",
   "metadata": {},
   "outputs": [],
   "source": []
  },
  {
   "cell_type": "code",
   "execution_count": null,
   "id": "560bf8ee",
   "metadata": {},
   "outputs": [],
   "source": []
  },
  {
   "cell_type": "code",
   "execution_count": null,
   "id": "88678492",
   "metadata": {},
   "outputs": [],
   "source": []
  },
  {
   "cell_type": "code",
   "execution_count": null,
   "id": "97d2c7c6",
   "metadata": {},
   "outputs": [],
   "source": []
  },
  {
   "cell_type": "code",
   "execution_count": null,
   "id": "a87cadc7",
   "metadata": {},
   "outputs": [],
   "source": []
  },
  {
   "cell_type": "code",
   "execution_count": null,
   "id": "5133eb56",
   "metadata": {},
   "outputs": [],
   "source": []
  }
 ],
 "metadata": {
  "kernelspec": {
   "display_name": "Python 3.10 (tensorflow)",
   "language": "python",
   "name": "tensorflow"
  },
  "language_info": {
   "codemirror_mode": {
    "name": "ipython",
    "version": 3
   },
   "file_extension": ".py",
   "mimetype": "text/x-python",
   "name": "python",
   "nbconvert_exporter": "python",
   "pygments_lexer": "ipython3",
   "version": "3.10.9"
  }
 },
 "nbformat": 4,
 "nbformat_minor": 5
}
